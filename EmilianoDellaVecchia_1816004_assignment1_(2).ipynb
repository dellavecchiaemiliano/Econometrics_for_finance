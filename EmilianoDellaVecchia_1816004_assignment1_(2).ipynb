{
  "nbformat": 4,
  "nbformat_minor": 0,
  "metadata": {
    "colab": {
      "provenance": [],
      "include_colab_link": true
    },
    "kernelspec": {
      "name": "python3",
      "display_name": "Python 3"
    },
    "language_info": {
      "name": "python"
    }
  },
  "cells": [
    {
      "cell_type": "markdown",
      "metadata": {
        "id": "view-in-github",
        "colab_type": "text"
      },
      "source": [
        "<a href=\"https://colab.research.google.com/github/dellavecchiaemiliano/Econometrics_for_finance/blob/main/EmilianoDellaVecchia_1816004_assignment1_(2).ipynb\" target=\"_parent\"><img src=\"https://colab.research.google.com/assets/colab-badge.svg\" alt=\"Open In Colab\"/></a>"
      ]
    },
    {
      "cell_type": "markdown",
      "source": [
        "# **Excercise 1**\n",
        "For this exercise, write a Python function (call it stringManipulation) that takes a string as input, assumed to be an English word. You may assume that the word contains no capital letters or punctuation. The function should return the the manipulated string as follows:\n",
        "\n",
        "If the word begins with a vowel (a, e, i, o, or u), add “way” to the end of the word. So “air” becomes “airway” and “eat” becomes “eatway.”\n",
        "If the word begins with any other letter, then we take the first letter, put it on the end of the word, and then add “ay.” Thus, “python” becomes “ythonpay” and “computer” becomes “omputercay.”"
      ],
      "metadata": {
        "id": "ZAJrKD8iCjsf"
      }
    },
    {
      "cell_type": "code",
      "execution_count": null,
      "metadata": {
        "colab": {
          "base_uri": "https://localhost:8080/"
        },
        "id": "c-IFgEhdhAJ7",
        "outputId": "9961e1b0-e04f-4ff2-8fa6-411de009279a"
      },
      "outputs": [
        {
          "output_type": "stream",
          "name": "stdout",
          "text": [
            "Choose a word (please do not insert capital letter or punctuation):mario\n",
            "ariomay\n"
          ]
        }
      ],
      "source": [
        "vowels = (\"a\",\"e\",\"i\",\"o\",\"u\") #I'm defining tuple of vowels\n",
        "word = input(\"Choose a word (please do not insert capital letter or punctuation):\") #I'm assuming that the word contains no capital letter or punctuation \n",
        "def stringManipulation():\n",
        "    if word[0] in vowels:\n",
        "     print(word + \"way\")\n",
        "    else:\n",
        "     print(word.replace(word[0],'') + word[0] + \"ay\")\n",
        "    \n",
        "stringManipulation()"
      ]
    },
    {
      "cell_type": "markdown",
      "source": [
        "# **Excercise 2**\n",
        "In this exercise you will simulate 1,000 rolls of two dice.\n",
        "\n",
        "Begin by writing a function\n",
        "that simulates rolling a pair of six-sided dice and call it `twoDice()`. Your function will not take any\n",
        "parameters. It will return the total that was rolled on two dice as its only result.\n",
        "\n",
        "Then use the function above inside another function (call it `diceFrequency`) which uses your `twoDice` function to simulate rolling two six-sided\n",
        "dice 1,000 times. As your program runs, it should count the number of times that\n",
        "each total occurs. Then it should display a table that summarizes this data expressed as a dictionary:\n",
        "\n",
        "*   The dictionary key will be each of the possible outcome of rolling two dice (2,3,4,...,12)\n",
        "*   The dictionary value for each key instead shows the frequency for each combination as a percentage of the number of rolls performed. "
      ],
      "metadata": {
        "id": "cGgCCdsSO4RH"
      }
    },
    {
      "cell_type": "code",
      "source": [
        "import pandas as pd\n",
        "pd.set_option('precision', 2)\n",
        "import random\n",
        "\n",
        "def twoDice():    #I'm creating this function to obtain a random result of rolling two dice.\n",
        "    d1 = random.randint(1, 6) \n",
        "    d2 = random.randint(1, 6)\n",
        "    return d1 + d2\n",
        "\n",
        "count = {2:0,3:0,4:0,5:0,6:0,7:0,8:0,9:0,10:0,11:0,12:0}   #I'm initializing count dictionary putting the value equal to 0\n",
        "\n",
        "def dicefrequency():  #I'm creating this function composed by 2 loop to sum 1000 results of the same experiment to obtain the frequency.    \n",
        "    for i in range(1000):\n",
        "      count[twoDice()] += 1\n",
        "         \n",
        "    for key,value in (count.items()):\n",
        "        count[key]= int(value)/1000*100       \n",
        "\n",
        "dicefrequency()\n",
        "df = pd.DataFrame.from_dict(count.items()) #I'm using pandas library to visualize the result in a dataframe \n",
        "df.columns = [\"Dice roll\",\"Count\"]\n",
        "df = df.style.hide_index()\n",
        "df\n"
      ],
      "metadata": {
        "id": "txd0aMPmMRVA",
        "colab": {
          "base_uri": "https://localhost:8080/",
          "height": 394
        },
        "outputId": "e0f6fa27-5990-4a97-ec6b-67b44bc46fca"
      },
      "execution_count": null,
      "outputs": [
        {
          "output_type": "execute_result",
          "data": {
            "text/plain": [
              "<pandas.io.formats.style.Styler at 0x7f9c2a19f3d0>"
            ],
            "text/html": [
              "<style type=\"text/css\">\n",
              "</style>\n",
              "<table id=\"T_2b26b_\" class=\"dataframe\">\n",
              "  <thead>\n",
              "    <tr>\n",
              "      <th class=\"col_heading level0 col0\" >Dice roll</th>\n",
              "      <th class=\"col_heading level0 col1\" >Count</th>\n",
              "    </tr>\n",
              "  </thead>\n",
              "  <tbody>\n",
              "    <tr>\n",
              "      <td id=\"T_2b26b_row0_col0\" class=\"data row0 col0\" >2</td>\n",
              "      <td id=\"T_2b26b_row0_col1\" class=\"data row0 col1\" >1.90</td>\n",
              "    </tr>\n",
              "    <tr>\n",
              "      <td id=\"T_2b26b_row1_col0\" class=\"data row1 col0\" >3</td>\n",
              "      <td id=\"T_2b26b_row1_col1\" class=\"data row1 col1\" >5.50</td>\n",
              "    </tr>\n",
              "    <tr>\n",
              "      <td id=\"T_2b26b_row2_col0\" class=\"data row2 col0\" >4</td>\n",
              "      <td id=\"T_2b26b_row2_col1\" class=\"data row2 col1\" >8.30</td>\n",
              "    </tr>\n",
              "    <tr>\n",
              "      <td id=\"T_2b26b_row3_col0\" class=\"data row3 col0\" >5</td>\n",
              "      <td id=\"T_2b26b_row3_col1\" class=\"data row3 col1\" >10.70</td>\n",
              "    </tr>\n",
              "    <tr>\n",
              "      <td id=\"T_2b26b_row4_col0\" class=\"data row4 col0\" >6</td>\n",
              "      <td id=\"T_2b26b_row4_col1\" class=\"data row4 col1\" >14.00</td>\n",
              "    </tr>\n",
              "    <tr>\n",
              "      <td id=\"T_2b26b_row5_col0\" class=\"data row5 col0\" >7</td>\n",
              "      <td id=\"T_2b26b_row5_col1\" class=\"data row5 col1\" >16.30</td>\n",
              "    </tr>\n",
              "    <tr>\n",
              "      <td id=\"T_2b26b_row6_col0\" class=\"data row6 col0\" >8</td>\n",
              "      <td id=\"T_2b26b_row6_col1\" class=\"data row6 col1\" >15.10</td>\n",
              "    </tr>\n",
              "    <tr>\n",
              "      <td id=\"T_2b26b_row7_col0\" class=\"data row7 col0\" >9</td>\n",
              "      <td id=\"T_2b26b_row7_col1\" class=\"data row7 col1\" >11.00</td>\n",
              "    </tr>\n",
              "    <tr>\n",
              "      <td id=\"T_2b26b_row8_col0\" class=\"data row8 col0\" >10</td>\n",
              "      <td id=\"T_2b26b_row8_col1\" class=\"data row8 col1\" >8.50</td>\n",
              "    </tr>\n",
              "    <tr>\n",
              "      <td id=\"T_2b26b_row9_col0\" class=\"data row9 col0\" >11</td>\n",
              "      <td id=\"T_2b26b_row9_col1\" class=\"data row9 col1\" >6.10</td>\n",
              "    </tr>\n",
              "    <tr>\n",
              "      <td id=\"T_2b26b_row10_col0\" class=\"data row10 col0\" >12</td>\n",
              "      <td id=\"T_2b26b_row10_col1\" class=\"data row10 col1\" >2.60</td>\n",
              "    </tr>\n",
              "  </tbody>\n",
              "</table>\n"
            ]
          },
          "metadata": {},
          "execution_count": 28
        }
      ]
    },
    {
      "cell_type": "markdown",
      "source": [
        "# **Excercise 3**\n",
        "Part 1\n",
        "The aim of this exercise is to create a new class called `Account`.\n",
        "1. Define a new class to represent a type of bank account.\n",
        "2. When the class is instantiated you should provide:\n",
        "    * the account number, \n",
        "    * the name of the account holder,\n",
        "    * an opening balance and\n",
        "    *  the type of account (which can be\n",
        "a string representing 'current', 'deposit' or 'investment' etc.). \n",
        "  \n",
        "  This means that\n",
        "there must be an `__init__` method and you will need to store the data within\n",
        "the object.\n",
        "3. Provide three **methods** for the `Account`; `deposit(amount)`,\n",
        "`withdraw(amount)` and `get_balance()`. The behaviour of these\n",
        "methods should be as expected, `deposit` will increase the balance, `withdraw` will\n",
        "decrease the balance and `get_balance()` returns the current balance.\n",
        "4. Define a simple test application to verify the behaviour of your `Account` class.\n",
        "It can be helpful to see how your class `Account` is expected to be used. For this\n",
        "reason a simple test application for the `Account` is given below:\n",
        "\n",
        "```\n",
        "acc1 = Account('123', 'John', 10.05, 'current')\n",
        "acc2 = Account('345', 'John', 23.55, 'savings')\n",
        "acc3 = Account('567', 'Phoebe', 12.45, 'investment')\n",
        "print(acc1)\n",
        "print(acc2)\n",
        "print(acc3)\n",
        "acc1.deposit(23.45)\n",
        "acc1.withdraw(12.33)\n",
        "print('balance:', acc1.get_balance())\n",
        "```\n",
        "The following output illustrates what the result of running this test application might look like:\n",
        "```\n",
        "Account[123] - John, current account = 10.05\n",
        "Account[345] - John, savings account = 23.55\n",
        "Account[567] - Phoebe, investment account = 12.45\n",
        "balance: 21.17\n",
        "```\n",
        "\n",
        "The output format (i.e. the object print result) does not need to be exactly as the output above. You just need to make sure all the information (name, account number, holder name, type and balance) is reported in the print statement in a readable way.\n",
        "\n",
        "#### Part 2 (optional)\n",
        "The aim of this part is to extend the `Account` class you have been developing\n",
        "from the last two chapters by providing a\n",
        "`CurrentAccount` **subclass**.\n",
        "The `CurrentAccount` subclass should extend the Account class by:\n",
        "* adding an overdraft limit\n",
        "* redefining the `withdraw()`\n",
        "method which shoud verify that the balance\n",
        "never goes below the overdraft limit. If it does then the `withdraw()` method\n",
        "should not reduce the balance instead it should print out a warning message"
      ],
      "metadata": {
        "id": "X1OJm0ulFgb3"
      }
    },
    {
      "cell_type": "code",
      "source": [
        "class Account:\n",
        "    def __init__(self, id_num, name, type_acc, balance):   #I'm initializing my class and I'm defining all the istances\n",
        "        self.id_num = id_num\n",
        "        self.name = name\n",
        "        self.type_acc = type_acc \n",
        "        self.balance = balance\n",
        "\n",
        "    def __str__(self):  #I'm adding this method to print the result\n",
        "        return f\" {self.id_num} - {self.name}, {self.type_acc} account = {self.balance} \"\n",
        "\n",
        "    def deposit(self, amount):   #I'm adding this method to allow deposits on the account\n",
        "        self.balance += amount\n",
        "        return(self.balance)\n",
        "\n",
        "    def withdraw(self, amount):    #I'm adding this method to allow withdraws by the account\n",
        "        self.balance -= amount\n",
        "        return self.balance\n",
        "\n",
        "    def get_balance(self):       #I'm adding this method to check the account balance\n",
        "        return(self.balance)  \n",
        "\n",
        "\n",
        "acc1 = Account(\"123\", \"Emiliano\", \"current\", 100)        \n",
        "acc2 = Account(\"456\", \"Stefano\", \"investment\", 200)\n",
        "acc3 = Account(\"789\", \"Mario\", \"savings\", 300)\n",
        "print(acc1)\n",
        "print(acc2)\n",
        "print(acc3)\n",
        "acc1.deposit(20)\n",
        "acc1.withdraw(30)\n",
        "print(\"balance:\", acc1.get_balance())"
      ],
      "metadata": {
        "id": "kW3DU1qsUHW-",
        "colab": {
          "base_uri": "https://localhost:8080/"
        },
        "outputId": "4cdae7af-5007-48ef-8ab2-0193324d5fa1"
      },
      "execution_count": null,
      "outputs": [
        {
          "output_type": "stream",
          "name": "stdout",
          "text": [
            " 123 - Emiliano, current account = 100 \n",
            " 456 - Stefano, investment account = 200 \n",
            " 789 - Mario, savings account = 300 \n",
            "balance: 90\n"
          ]
        }
      ]
    },
    {
      "cell_type": "code",
      "source": [],
      "metadata": {
        "id": "c39QvEtgKqi3"
      },
      "execution_count": null,
      "outputs": []
    }
  ]
}